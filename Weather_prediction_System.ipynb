{
 "cells": [
  {
   "cell_type": "code",
   "execution_count": 1,
   "id": "253074e6",
   "metadata": {},
   "outputs": [],
   "source": [
    "import numpy as np \n",
    "import pandas as pd"
   ]
  },
  {
   "cell_type": "code",
   "execution_count": 3,
   "id": "9ce9509d",
   "metadata": {},
   "outputs": [],
   "source": [
    "df = pd.read_csv('weather_classification_data.csv')"
   ]
  },
  {
   "cell_type": "code",
   "execution_count": 4,
   "id": "fdc2c5ef",
   "metadata": {},
   "outputs": [
    {
     "data": {
      "text/html": [
       "<div>\n",
       "<style scoped>\n",
       "    .dataframe tbody tr th:only-of-type {\n",
       "        vertical-align: middle;\n",
       "    }\n",
       "\n",
       "    .dataframe tbody tr th {\n",
       "        vertical-align: top;\n",
       "    }\n",
       "\n",
       "    .dataframe thead th {\n",
       "        text-align: right;\n",
       "    }\n",
       "</style>\n",
       "<table border=\"1\" class=\"dataframe\">\n",
       "  <thead>\n",
       "    <tr style=\"text-align: right;\">\n",
       "      <th></th>\n",
       "      <th>Temperature</th>\n",
       "      <th>Humidity</th>\n",
       "      <th>Wind Speed</th>\n",
       "      <th>Precipitation (%)</th>\n",
       "      <th>Cloud Cover</th>\n",
       "      <th>Atmospheric Pressure</th>\n",
       "      <th>UV Index</th>\n",
       "      <th>Season</th>\n",
       "      <th>Visibility (km)</th>\n",
       "      <th>Location</th>\n",
       "      <th>Weather Type</th>\n",
       "    </tr>\n",
       "  </thead>\n",
       "  <tbody>\n",
       "    <tr>\n",
       "      <th>0</th>\n",
       "      <td>14.0</td>\n",
       "      <td>73</td>\n",
       "      <td>9.5</td>\n",
       "      <td>82.0</td>\n",
       "      <td>partly cloudy</td>\n",
       "      <td>1010.82</td>\n",
       "      <td>2</td>\n",
       "      <td>Winter</td>\n",
       "      <td>3.5</td>\n",
       "      <td>inland</td>\n",
       "      <td>Rainy</td>\n",
       "    </tr>\n",
       "    <tr>\n",
       "      <th>1</th>\n",
       "      <td>39.0</td>\n",
       "      <td>96</td>\n",
       "      <td>8.5</td>\n",
       "      <td>71.0</td>\n",
       "      <td>partly cloudy</td>\n",
       "      <td>1011.43</td>\n",
       "      <td>7</td>\n",
       "      <td>Spring</td>\n",
       "      <td>10.0</td>\n",
       "      <td>inland</td>\n",
       "      <td>Cloudy</td>\n",
       "    </tr>\n",
       "    <tr>\n",
       "      <th>2</th>\n",
       "      <td>30.0</td>\n",
       "      <td>64</td>\n",
       "      <td>7.0</td>\n",
       "      <td>16.0</td>\n",
       "      <td>clear</td>\n",
       "      <td>1018.72</td>\n",
       "      <td>5</td>\n",
       "      <td>Spring</td>\n",
       "      <td>5.5</td>\n",
       "      <td>mountain</td>\n",
       "      <td>Sunny</td>\n",
       "    </tr>\n",
       "    <tr>\n",
       "      <th>3</th>\n",
       "      <td>38.0</td>\n",
       "      <td>83</td>\n",
       "      <td>1.5</td>\n",
       "      <td>82.0</td>\n",
       "      <td>clear</td>\n",
       "      <td>1026.25</td>\n",
       "      <td>7</td>\n",
       "      <td>Spring</td>\n",
       "      <td>1.0</td>\n",
       "      <td>coastal</td>\n",
       "      <td>Sunny</td>\n",
       "    </tr>\n",
       "    <tr>\n",
       "      <th>4</th>\n",
       "      <td>27.0</td>\n",
       "      <td>74</td>\n",
       "      <td>17.0</td>\n",
       "      <td>66.0</td>\n",
       "      <td>overcast</td>\n",
       "      <td>990.67</td>\n",
       "      <td>1</td>\n",
       "      <td>Winter</td>\n",
       "      <td>2.5</td>\n",
       "      <td>mountain</td>\n",
       "      <td>Rainy</td>\n",
       "    </tr>\n",
       "  </tbody>\n",
       "</table>\n",
       "</div>"
      ],
      "text/plain": [
       "   Temperature  Humidity  Wind Speed  Precipitation (%)    Cloud Cover  \\\n",
       "0         14.0        73         9.5               82.0  partly cloudy   \n",
       "1         39.0        96         8.5               71.0  partly cloudy   \n",
       "2         30.0        64         7.0               16.0          clear   \n",
       "3         38.0        83         1.5               82.0          clear   \n",
       "4         27.0        74        17.0               66.0       overcast   \n",
       "\n",
       "   Atmospheric Pressure  UV Index  Season  Visibility (km)  Location  \\\n",
       "0               1010.82         2  Winter              3.5    inland   \n",
       "1               1011.43         7  Spring             10.0    inland   \n",
       "2               1018.72         5  Spring              5.5  mountain   \n",
       "3               1026.25         7  Spring              1.0   coastal   \n",
       "4                990.67         1  Winter              2.5  mountain   \n",
       "\n",
       "  Weather Type  \n",
       "0        Rainy  \n",
       "1       Cloudy  \n",
       "2        Sunny  \n",
       "3        Sunny  \n",
       "4        Rainy  "
      ]
     },
     "execution_count": 4,
     "metadata": {},
     "output_type": "execute_result"
    }
   ],
   "source": [
    "df.head()"
   ]
  },
  {
   "cell_type": "code",
   "execution_count": 5,
   "id": "30eed3aa",
   "metadata": {},
   "outputs": [
    {
     "name": "stdout",
     "output_type": "stream",
     "text": [
      "<class 'pandas.core.frame.DataFrame'>\n",
      "RangeIndex: 13200 entries, 0 to 13199\n",
      "Data columns (total 11 columns):\n",
      " #   Column                Non-Null Count  Dtype  \n",
      "---  ------                --------------  -----  \n",
      " 0   Temperature           13200 non-null  float64\n",
      " 1   Humidity              13200 non-null  int64  \n",
      " 2   Wind Speed            13200 non-null  float64\n",
      " 3   Precipitation (%)     13200 non-null  float64\n",
      " 4   Cloud Cover           13200 non-null  object \n",
      " 5   Atmospheric Pressure  13200 non-null  float64\n",
      " 6   UV Index              13200 non-null  int64  \n",
      " 7   Season                13200 non-null  object \n",
      " 8   Visibility (km)       13200 non-null  float64\n",
      " 9   Location              13200 non-null  object \n",
      " 10  Weather Type          13200 non-null  object \n",
      "dtypes: float64(5), int64(2), object(4)\n",
      "memory usage: 1.1+ MB\n"
     ]
    }
   ],
   "source": [
    "df.info()"
   ]
  },
  {
   "cell_type": "code",
   "execution_count": 6,
   "id": "38f6b835",
   "metadata": {},
   "outputs": [
    {
     "data": {
      "text/plain": [
       "0"
      ]
     },
     "execution_count": 6,
     "metadata": {},
     "output_type": "execute_result"
    }
   ],
   "source": [
    "df.duplicated().sum()"
   ]
  },
  {
   "cell_type": "code",
   "execution_count": 7,
   "id": "3cb8d3eb",
   "metadata": {},
   "outputs": [],
   "source": [
    "df.drop(columns =['Precipitation (%)','UV Index','Visibility (km)'], inplace = True)"
   ]
  },
  {
   "cell_type": "code",
   "execution_count": 8,
   "id": "9dfb648f",
   "metadata": {},
   "outputs": [
    {
     "data": {
      "text/html": [
       "<div>\n",
       "<style scoped>\n",
       "    .dataframe tbody tr th:only-of-type {\n",
       "        vertical-align: middle;\n",
       "    }\n",
       "\n",
       "    .dataframe tbody tr th {\n",
       "        vertical-align: top;\n",
       "    }\n",
       "\n",
       "    .dataframe thead th {\n",
       "        text-align: right;\n",
       "    }\n",
       "</style>\n",
       "<table border=\"1\" class=\"dataframe\">\n",
       "  <thead>\n",
       "    <tr style=\"text-align: right;\">\n",
       "      <th></th>\n",
       "      <th>Temperature</th>\n",
       "      <th>Humidity</th>\n",
       "      <th>Wind Speed</th>\n",
       "      <th>Cloud Cover</th>\n",
       "      <th>Atmospheric Pressure</th>\n",
       "      <th>Season</th>\n",
       "      <th>Location</th>\n",
       "      <th>Weather Type</th>\n",
       "    </tr>\n",
       "  </thead>\n",
       "  <tbody>\n",
       "    <tr>\n",
       "      <th>0</th>\n",
       "      <td>14.0</td>\n",
       "      <td>73</td>\n",
       "      <td>9.5</td>\n",
       "      <td>partly cloudy</td>\n",
       "      <td>1010.82</td>\n",
       "      <td>Winter</td>\n",
       "      <td>inland</td>\n",
       "      <td>Rainy</td>\n",
       "    </tr>\n",
       "    <tr>\n",
       "      <th>1</th>\n",
       "      <td>39.0</td>\n",
       "      <td>96</td>\n",
       "      <td>8.5</td>\n",
       "      <td>partly cloudy</td>\n",
       "      <td>1011.43</td>\n",
       "      <td>Spring</td>\n",
       "      <td>inland</td>\n",
       "      <td>Cloudy</td>\n",
       "    </tr>\n",
       "    <tr>\n",
       "      <th>2</th>\n",
       "      <td>30.0</td>\n",
       "      <td>64</td>\n",
       "      <td>7.0</td>\n",
       "      <td>clear</td>\n",
       "      <td>1018.72</td>\n",
       "      <td>Spring</td>\n",
       "      <td>mountain</td>\n",
       "      <td>Sunny</td>\n",
       "    </tr>\n",
       "    <tr>\n",
       "      <th>3</th>\n",
       "      <td>38.0</td>\n",
       "      <td>83</td>\n",
       "      <td>1.5</td>\n",
       "      <td>clear</td>\n",
       "      <td>1026.25</td>\n",
       "      <td>Spring</td>\n",
       "      <td>coastal</td>\n",
       "      <td>Sunny</td>\n",
       "    </tr>\n",
       "    <tr>\n",
       "      <th>4</th>\n",
       "      <td>27.0</td>\n",
       "      <td>74</td>\n",
       "      <td>17.0</td>\n",
       "      <td>overcast</td>\n",
       "      <td>990.67</td>\n",
       "      <td>Winter</td>\n",
       "      <td>mountain</td>\n",
       "      <td>Rainy</td>\n",
       "    </tr>\n",
       "  </tbody>\n",
       "</table>\n",
       "</div>"
      ],
      "text/plain": [
       "   Temperature  Humidity  Wind Speed    Cloud Cover  Atmospheric Pressure  \\\n",
       "0         14.0        73         9.5  partly cloudy               1010.82   \n",
       "1         39.0        96         8.5  partly cloudy               1011.43   \n",
       "2         30.0        64         7.0          clear               1018.72   \n",
       "3         38.0        83         1.5          clear               1026.25   \n",
       "4         27.0        74        17.0       overcast                990.67   \n",
       "\n",
       "   Season  Location Weather Type  \n",
       "0  Winter    inland        Rainy  \n",
       "1  Spring    inland       Cloudy  \n",
       "2  Spring  mountain        Sunny  \n",
       "3  Spring   coastal        Sunny  \n",
       "4  Winter  mountain        Rainy  "
      ]
     },
     "execution_count": 8,
     "metadata": {},
     "output_type": "execute_result"
    }
   ],
   "source": [
    "df.head()"
   ]
  },
  {
   "cell_type": "code",
   "execution_count": 9,
   "id": "fc313bc1",
   "metadata": {},
   "outputs": [],
   "source": [
    "import matplotlib.pyplot as plt\n",
    "import seaborn as sns"
   ]
  },
  {
   "cell_type": "code",
   "execution_count": 10,
   "id": "17b191ad",
   "metadata": {},
   "outputs": [
    {
     "data": {
      "text/plain": [
       "<Axes: xlabel='Cloud Cover'>"
      ]
     },
     "execution_count": 10,
     "metadata": {},
     "output_type": "execute_result"
    },
    {
     "data": {
      "image/png": "[encoded data removed]",
      "text/plain": [
       "<Figure size 640x480 with 1 Axes>"
      ]
     },
     "metadata": {},
     "output_type": "display_data"
    }
   ],
   "source": [
    "df['Cloud Cover'].value_counts().plot(kind ='bar')"
   ]
  },
  {
   "cell_type": "code",
   "execution_count": 11,
   "id": "9d2e4a67",
   "metadata": {},
   "outputs": [
    {
     "data": {
      "text/plain": [
       "<Axes: xlabel='Season'>"
      ]
     },
     "execution_count": 11,
     "metadata": {},
     "output_type": "execute_result"
    },
    {
     "data": {
      "image/png": "[encoded data removed]",
      "text/plain": [
       "<Figure size 640x480 with 1 Axes>"
      ]
     },
     "metadata": {},
     "output_type": "display_data"
    }
   ],
   "source": [
    "df['Season'].value_counts().plot(kind ='bar')"
   ]
  },
  {
   "cell_type": "code",
   "execution_count": 12,
   "id": "131360bc",
   "metadata": {},
   "outputs": [
    {
     "data": {
      "text/plain": [
       "<Axes: xlabel='Location'>"
      ]
     },
     "execution_count": 12,
     "metadata": {},
     "output_type": "execute_result"
    },
    {
     "data": {
      "image/png": "[encoded data removed]",
      "text/plain": [
       "<Figure size 640x480 with 1 Axes>"
      ]
     },
     "metadata": {},
     "output_type": "display_data"
    }
   ],
   "source": [
    "df['Location'].value_counts().plot(kind ='bar')"
   ]
  },
  {
   "cell_type": "code",
   "execution_count": 13,
   "id": "0d064d6a",
   "metadata": {},
   "outputs": [
    {
     "data": {
      "text/plain": [
       "<Axes: xlabel='Weather Type'>"
      ]
     },
     "execution_count": 13,
     "metadata": {},
     "output_type": "execute_result"
    },
    {
     "data": {
      "image/png": "[encoded data removed]",
      "text/plain": [
       "<Figure size 640x480 with 1 Axes>"
      ]
     },
     "metadata": {},
     "output_type": "display_data"
    }
   ],
   "source": [
    "df['Weather Type'].value_counts().plot(kind = 'bar')"
   ]
  },
  {
   "cell_type": "markdown",
   "id": "3be2d83a",
   "metadata": {},
   "source": [
    "## Outlier Detection\n",
    "### We use box plot for detection of outlier and removal of outliers we use IQR Method"
   ]
  },
  {
   "cell_type": "code",
   "execution_count": 14,
   "id": "4f86cb90",
   "metadata": {},
   "outputs": [
    {
     "data": {
      "text/plain": [
       "<Axes: >"
      ]
     },
     "execution_count": 14,
     "metadata": {},
     "output_type": "execute_result"
    },
    {
     "data": {
      "image/png": "[encoded data removed]",
      "text/plain": [
       "<Figure size 640x480 with 1 Axes>"
      ]
     },
     "metadata": {},
     "output_type": "display_data"
    }
   ],
   "source": [
    "sns.boxplot(df['Atmospheric Pressure'])"
   ]
  },
  {
   "cell_type": "code",
   "execution_count": 15,
   "id": "e342550d",
   "metadata": {},
   "outputs": [
    {
     "name": "stdout",
     "output_type": "stream",
     "text": [
      "25th Percentile: 994.8\n",
      "75th Percentile: 1016.7725\n",
      "Upper Limit: 1049.7312500000003 Lower Limit: 961.8412499999998\n",
      "   Temperature  Humidity  Wind Speed    Cloud Cover  Atmospheric Pressure  \\\n",
      "0         14.0        73         9.5  partly cloudy               1010.82   \n",
      "1         39.0        96         8.5  partly cloudy               1011.43   \n",
      "2         30.0        64         7.0          clear               1018.72   \n",
      "3         38.0        83         1.5          clear               1026.25   \n",
      "4         27.0        74        17.0       overcast                990.67   \n",
      "\n",
      "   Season  Location Weather Type  \n",
      "0  Winter    inland        Rainy  \n",
      "1  Spring    inland       Cloudy  \n",
      "2  Spring  mountain        Sunny  \n",
      "3  Spring   coastal        Sunny  \n",
      "4  Winter  mountain        Rainy  \n"
     ]
    }
   ],
   "source": [
    "# Calculate the 25th and 75th percentiles\n",
    "percentile25 = df['Atmospheric Pressure'].quantile(0.25)\n",
    "print(\"25th Percentile:\", percentile25)\n",
    "\n",
    "percentile75 = df['Atmospheric Pressure'].quantile(0.75)\n",
    "print(\"75th Percentile:\", percentile75)\n",
    "\n",
    "# Calculate the interquartile range (IQR)\n",
    "iqr = percentile75 - percentile25\n",
    "\n",
    "# Calculate the upper and lower limits for outliers\n",
    "uplimit = percentile75 + 1.5 * iqr\n",
    "lolimit = percentile25 - 1.5 * iqr\n",
    "print(\"Upper Limit:\", uplimit, \"Lower Limit:\", lolimit)\n",
    "\n",
    "# Create a copy of the DataFrame\n",
    "new_df = df.copy()\n",
    "\n",
    "# Capping the outliers\n",
    "new_df['Atmospheric Pressure'] = np.where(\n",
    "    new_df['Atmospheric Pressure'] > uplimit, uplimit,\n",
    "    np.where(new_df['Atmospheric Pressure'] < lolimit, lolimit, new_df['Atmospheric Pressure'])\n",
    ")\n",
    "\n",
    "# Display the first few rows of the new DataFrame to check the changes\n",
    "print(new_df.head())"
   ]
  },
  {
   "cell_type": "code",
   "execution_count": 16,
   "id": "7d3860be",
   "metadata": {},
   "outputs": [
    {
     "data": {
      "text/plain": [
       "<Axes: >"
      ]
     },
     "execution_count": 16,
     "metadata": {},
     "output_type": "execute_result"
    },
    {
     "data": {
      "image/png": "[encoded data removed]",
      "text/plain": [
       "<Figure size 640x480 with 1 Axes>"
      ]
     },
     "metadata": {},
     "output_type": "display_data"
    }
   ],
   "source": [
    "sns.boxplot(new_df['Atmospheric Pressure'])"
   ]
  },
  {
   "cell_type": "code",
   "execution_count": 17,
   "id": "90ec3af3",
   "metadata": {},
   "outputs": [],
   "source": [
    "df = new_df.copy()"
   ]
  },
  {
   "cell_type": "code",
   "execution_count": 18,
   "id": "9dc6e8e7",
   "metadata": {},
   "outputs": [
    {
     "data": {
      "text/plain": [
       "<Axes: >"
      ]
     },
     "execution_count": 18,
     "metadata": {},
     "output_type": "execute_result"
    },
    {
     "data": {
      "image/png": "[encoded data removed]",
      "text/plain": [
       "<Figure size 640x480 with 1 Axes>"
      ]
     },
     "metadata": {},
     "output_type": "display_data"
    }
   ],
   "source": [
    "sns.boxplot(df['Temperature'])"
   ]
  },
  {
   "cell_type": "code",
   "execution_count": 19,
   "id": "67b4d554",
   "metadata": {},
   "outputs": [
    {
     "name": "stdout",
     "output_type": "stream",
     "text": [
      "25th Percentile: 4.0\n",
      "75th Percentile: 31.0\n",
      "Upper Limit: 71.5 Lower Limit: -36.5\n",
      "   Temperature  Humidity  Wind Speed    Cloud Cover  Atmospheric Pressure  \\\n",
      "0         14.0        73         9.5  partly cloudy               1010.82   \n",
      "1         39.0        96         8.5  partly cloudy               1011.43   \n",
      "2         30.0        64         7.0          clear               1018.72   \n",
      "3         38.0        83         1.5          clear               1026.25   \n",
      "4         27.0        74        17.0       overcast                990.67   \n",
      "\n",
      "   Season  Location Weather Type  \n",
      "0  Winter    inland        Rainy  \n",
      "1  Spring    inland       Cloudy  \n",
      "2  Spring  mountain        Sunny  \n",
      "3  Spring   coastal        Sunny  \n",
      "4  Winter  mountain        Rainy  \n"
     ]
    }
   ],
   "source": [
    "# Calculate the 25th and 75th percentiles\n",
    "percentile25 = df['Temperature'].quantile(0.25)\n",
    "print(\"25th Percentile:\", percentile25)\n",
    "\n",
    "percentile75 = df['Temperature'].quantile(0.75)\n",
    "print(\"75th Percentile:\", percentile75)\n",
    "\n",
    "# Calculate the interquartile range (IQR)\n",
    "iqr = percentile75 - percentile25\n",
    "\n",
    "# Calculate the upper and lower limits for outliers\n",
    "uplimit = percentile75 + 1.5 * iqr\n",
    "lolimit = percentile25 - 1.5 * iqr\n",
    "print(\"Upper Limit:\", uplimit, \"Lower Limit:\", lolimit)\n",
    "\n",
    "# Create a copy of the DataFrame\n",
    "new_df = df.copy()\n",
    "\n",
    "# Capping the outliers\n",
    "new_df['Temperature'] = np.where(\n",
    "    new_df['Temperature'] > uplimit, uplimit,\n",
    "    np.where(new_df['Temperature'] < lolimit, lolimit, new_df['Temperature'])\n",
    ")\n",
    "\n",
    "# Display the first few rows of the new DataFrame to check the changes\n",
    "print(new_df.head())"
   ]
  },
  {
   "cell_type": "code",
   "execution_count": 20,
   "id": "57ed9358",
   "metadata": {},
   "outputs": [],
   "source": [
    "df = new_df.copy()"
   ]
  },
  {
   "cell_type": "code",
   "execution_count": 21,
   "id": "b9477a0a",
   "metadata": {},
   "outputs": [
    {
     "data": {
      "text/plain": [
       "<Axes: >"
      ]
     },
     "execution_count": 21,
     "metadata": {},
     "output_type": "execute_result"
    },
    {
     "data": {
      "image/png": "[encoded data removed]",
      "text/plain": [
       "<Figure size 640x480 with 1 Axes>"
      ]
     },
     "metadata": {},
     "output_type": "display_data"
    }
   ],
   "source": [
    "sns.boxplot(df['Temperature'])"
   ]
  },
  {
   "cell_type": "code",
   "execution_count": 22,
   "id": "c7a45499",
   "metadata": {},
   "outputs": [
    {
     "data": {
      "text/plain": [
       "<Axes: >"
      ]
     },
     "execution_count": 22,
     "metadata": {},
     "output_type": "execute_result"
    },
    {
     "data": {
      "image/png": "[encoded data removed]",
      "text/plain": [
       "<Figure size 640x480 with 1 Axes>"
      ]
     },
     "metadata": {},
     "output_type": "display_data"
    }
   ],
   "source": [
    "sns.boxplot(df['Humidity'])"
   ]
  },
  {
   "cell_type": "code",
   "execution_count": 23,
   "id": "365f0d66",
   "metadata": {},
   "outputs": [
    {
     "data": {
      "text/plain": [
       "<Axes: >"
      ]
     },
     "execution_count": 23,
     "metadata": {},
     "output_type": "execute_result"
    },
    {
     "data": {
      "image/png": "[encoded data removed]",
      "text/plain": [
       "<Figure size 640x480 with 1 Axes>"
      ]
     },
     "metadata": {},
     "output_type": "display_data"
    }
   ],
   "source": [
    "sns.boxplot(df['Wind Speed'])"
   ]
  },
  {
   "cell_type": "code",
   "execution_count": 24,
   "id": "0ad064d9",
   "metadata": {},
   "outputs": [
    {
     "name": "stdout",
     "output_type": "stream",
     "text": [
      "25th Percentile: 5.0\n",
      "75th Percentile: 13.5\n",
      "Upper Limit: 26.25 Lower Limit: -7.75\n",
      "   Temperature  Humidity  Wind Speed    Cloud Cover  Atmospheric Pressure  \\\n",
      "0         14.0        73         9.5  partly cloudy               1010.82   \n",
      "1         39.0        96         8.5  partly cloudy               1011.43   \n",
      "2         30.0        64         7.0          clear               1018.72   \n",
      "3         38.0        83         1.5          clear               1026.25   \n",
      "4         27.0        74        17.0       overcast                990.67   \n",
      "\n",
      "   Season  Location Weather Type  \n",
      "0  Winter    inland        Rainy  \n",
      "1  Spring    inland       Cloudy  \n",
      "2  Spring  mountain        Sunny  \n",
      "3  Spring   coastal        Sunny  \n",
      "4  Winter  mountain        Rainy  \n"
     ]
    }
   ],
   "source": [
    "# Calculate the 25th and 75th percentiles\n",
    "percentile25 = df['Wind Speed'].quantile(0.25)\n",
    "print(\"25th Percentile:\", percentile25)\n",
    "\n",
    "percentile75 = df['Wind Speed'].quantile(0.75)\n",
    "print(\"75th Percentile:\", percentile75)\n",
    "\n",
    "# Calculate the interquartile range (IQR)\n",
    "iqr = percentile75 - percentile25\n",
    "\n",
    "# Calculate the upper and lower limits for outliers\n",
    "uplimit = percentile75 + 1.5 * iqr\n",
    "lolimit = percentile25 - 1.5 * iqr\n",
    "print(\"Upper Limit:\", uplimit, \"Lower Limit:\", lolimit)\n",
    "\n",
    "# Create a copy of the DataFrame\n",
    "new_df = df.copy()\n",
    "\n",
    "# Capping the outliers\n",
    "new_df['Wind Speed'] = np.where(\n",
    "    new_df['Wind Speed'] > uplimit, uplimit,\n",
    "    np.where(new_df['Wind Speed'] < lolimit, lolimit, new_df['Wind Speed'])\n",
    ")\n",
    "\n",
    "# Display the first few rows of the new DataFrame to check the changes\n",
    "print(new_df.head())"
   ]
  },
  {
   "cell_type": "code",
   "execution_count": 25,
   "id": "4546c682",
   "metadata": {},
   "outputs": [],
   "source": [
    "df = new_df.copy()"
   ]
  },
  {
   "cell_type": "code",
   "execution_count": 26,
   "id": "5fa594a5",
   "metadata": {},
   "outputs": [
    {
     "data": {
      "text/plain": [
       "<Axes: >"
      ]
     },
     "execution_count": 26,
     "metadata": {},
     "output_type": "execute_result"
    },
    {
     "data": {
      "image/png": "[encoded data removed]",
      "text/plain": [
       "<Figure size 640x480 with 1 Axes>"
      ]
     },
     "metadata": {},
     "output_type": "display_data"
    }
   ],
   "source": [
    "sns.boxplot(df['Wind Speed'])"
   ]
  },
  {
   "cell_type": "code",
   "execution_count": 27,
   "id": "510c97e5",
   "metadata": {},
   "outputs": [
    {
     "data": {
      "text/html": [
       "<div>\n",
       "<style scoped>\n",
       "    .dataframe tbody tr th:only-of-type {\n",
       "        vertical-align: middle;\n",
       "    }\n",
       "\n",
       "    .dataframe tbody tr th {\n",
       "        vertical-align: top;\n",
       "    }\n",
       "\n",
       "    .dataframe thead th {\n",
       "        text-align: right;\n",
       "    }\n",
       "</style>\n",
       "<table border=\"1\" class=\"dataframe\">\n",
       "  <thead>\n",
       "    <tr style=\"text-align: right;\">\n",
       "      <th></th>\n",
       "      <th>Temperature</th>\n",
       "      <th>Humidity</th>\n",
       "      <th>Wind Speed</th>\n",
       "      <th>Cloud Cover</th>\n",
       "      <th>Atmospheric Pressure</th>\n",
       "      <th>Season</th>\n",
       "      <th>Location</th>\n",
       "      <th>Weather Type</th>\n",
       "    </tr>\n",
       "  </thead>\n",
       "  <tbody>\n",
       "    <tr>\n",
       "      <th>0</th>\n",
       "      <td>14.0</td>\n",
       "      <td>73</td>\n",
       "      <td>9.5</td>\n",
       "      <td>partly cloudy</td>\n",
       "      <td>1010.82</td>\n",
       "      <td>Winter</td>\n",
       "      <td>inland</td>\n",
       "      <td>Rainy</td>\n",
       "    </tr>\n",
       "    <tr>\n",
       "      <th>1</th>\n",
       "      <td>39.0</td>\n",
       "      <td>96</td>\n",
       "      <td>8.5</td>\n",
       "      <td>partly cloudy</td>\n",
       "      <td>1011.43</td>\n",
       "      <td>Spring</td>\n",
       "      <td>inland</td>\n",
       "      <td>Cloudy</td>\n",
       "    </tr>\n",
       "    <tr>\n",
       "      <th>2</th>\n",
       "      <td>30.0</td>\n",
       "      <td>64</td>\n",
       "      <td>7.0</td>\n",
       "      <td>clear</td>\n",
       "      <td>1018.72</td>\n",
       "      <td>Spring</td>\n",
       "      <td>mountain</td>\n",
       "      <td>Sunny</td>\n",
       "    </tr>\n",
       "    <tr>\n",
       "      <th>3</th>\n",
       "      <td>38.0</td>\n",
       "      <td>83</td>\n",
       "      <td>1.5</td>\n",
       "      <td>clear</td>\n",
       "      <td>1026.25</td>\n",
       "      <td>Spring</td>\n",
       "      <td>coastal</td>\n",
       "      <td>Sunny</td>\n",
       "    </tr>\n",
       "    <tr>\n",
       "      <th>4</th>\n",
       "      <td>27.0</td>\n",
       "      <td>74</td>\n",
       "      <td>17.0</td>\n",
       "      <td>overcast</td>\n",
       "      <td>990.67</td>\n",
       "      <td>Winter</td>\n",
       "      <td>mountain</td>\n",
       "      <td>Rainy</td>\n",
       "    </tr>\n",
       "  </tbody>\n",
       "</table>\n",
       "</div>"
      ],
      "text/plain": [
       "   Temperature  Humidity  Wind Speed    Cloud Cover  Atmospheric Pressure  \\\n",
       "0         14.0        73         9.5  partly cloudy               1010.82   \n",
       "1         39.0        96         8.5  partly cloudy               1011.43   \n",
       "2         30.0        64         7.0          clear               1018.72   \n",
       "3         38.0        83         1.5          clear               1026.25   \n",
       "4         27.0        74        17.0       overcast                990.67   \n",
       "\n",
       "   Season  Location Weather Type  \n",
       "0  Winter    inland        Rainy  \n",
       "1  Spring    inland       Cloudy  \n",
       "2  Spring  mountain        Sunny  \n",
       "3  Spring   coastal        Sunny  \n",
       "4  Winter  mountain        Rainy  "
      ]
     },
     "execution_count": 27,
     "metadata": {},
     "output_type": "execute_result"
    }
   ],
   "source": [
    "df.head()"
   ]
  },
  {
   "cell_type": "markdown",
   "id": "5fdf6b2f",
   "metadata": {},
   "source": [
    "## Logistic Regression"
   ]
  },
  {
   "cell_type": "code",
   "execution_count": 28,
   "id": "0444ab72",
   "metadata": {},
   "outputs": [
    {
     "name": "stderr",
     "output_type": "stream",
     "text": [
      "C:\\Users\\Harsh\\anaconda3\\Lib\\site-packages\\sklearn\\preprocessing\\_encoders.py:972: FutureWarning: `sparse` was renamed to `sparse_output` in version 1.2 and will be removed in 1.4. `sparse_output` is ignored unless you leave `sparse` to its default value.\n",
      "  warnings.warn(\n"
     ]
    },
    {
     "name": "stdout",
     "output_type": "stream",
     "text": [
      "Accuracy: 0.7882575757575757\n",
      "Precision: 0.7875416768756505\n",
      "Recall: 0.7882575757575757\n",
      "F1 Score: 0.7875097250130344\n"
     ]
    },
    {
     "name": "stderr",
     "output_type": "stream",
     "text": [
      "C:\\Users\\Harsh\\anaconda3\\Lib\\site-packages\\sklearn\\linear_model\\_logistic.py:460: ConvergenceWarning: lbfgs failed to converge (status=1):\n",
      "STOP: TOTAL NO. of ITERATIONS REACHED LIMIT.\n",
      "\n",
      "Increase the number of iterations (max_iter) or scale the data as shown in:\n",
      "    https://scikit-learn.org/stable/modules/preprocessing.html\n",
      "Please also refer to the documentation for alternative solver options:\n",
      "    https://scikit-learn.org/stable/modules/linear_model.html#logistic-regression\n",
      "  n_iter_i = _check_optimize_result(\n"
     ]
    }
   ],
   "source": [
    "from sklearn.compose import ColumnTransformer\n",
    "from sklearn.pipeline import Pipeline\n",
    "from sklearn.preprocessing import OneHotEncoder\n",
    "from sklearn.linear_model import LogisticRegression\n",
    "from sklearn.metrics import accuracy_score, precision_score, recall_score, f1_score\n",
    "from sklearn.model_selection import train_test_split\n",
    "\n",
    "# Assuming df is your DataFrame and 'Weather Type' is your target column\n",
    "X = df.drop(columns=['Weather Type'])\n",
    "y = df['Weather Type']\n",
    "\n",
    "# Specify the categorical column names, excluding the target column\n",
    "categorical_features = ['Cloud Cover', 'Season', 'Location']\n",
    "\n",
    "# Split the data into training and testing sets\n",
    "X_train, X_test, y_train, y_test = train_test_split(X, y, test_size=0.2, random_state=42)\n",
    "\n",
    "# Step 1: ColumnTransformer with OneHotEncoder\n",
    "step1 = ColumnTransformer(transformers=[\n",
    "    ('col_tnf', OneHotEncoder(sparse=False, drop='first'), categorical_features)\n",
    "], remainder='passthrough')\n",
    "\n",
    "# Step 2: Logistic Regression\n",
    "step2 = LogisticRegression(max_iter=1000)  # Adding max_iter to ensure convergence\n",
    "\n",
    "# Create the pipeline\n",
    "pipe = Pipeline([\n",
    "    ('step1', step1),\n",
    "    ('step2', step2)\n",
    "])\n",
    "\n",
    "# Fit the pipeline on the training data\n",
    "pipe.fit(X_train, y_train)\n",
    "\n",
    "# Make predictions on the test data\n",
    "y_pred = pipe.predict(X_test)\n",
    "\n",
    "# Print classification metrics\n",
    "print('Accuracy:', accuracy_score(y_test, y_pred))\n",
    "print('Precision:', precision_score(y_test, y_pred, average='weighted'))\n",
    "print('Recall:', recall_score(y_test, y_pred, average='weighted'))\n",
    "print('F1 Score:', f1_score(y_test, y_pred, average='weighted'))\n"
   ]
  },
  {
   "cell_type": "markdown",
   "id": "4ee79b4c",
   "metadata": {},
   "source": [
    "## Descion Tree"
   ]
  },
  {
   "cell_type": "code",
   "execution_count": 29,
   "id": "ddac6c0c",
   "metadata": {},
   "outputs": [
    {
     "name": "stdout",
     "output_type": "stream",
     "text": [
      "Decision Tree Classifier Accuracy: 0.8212121212121212\n"
     ]
    },
    {
     "name": "stderr",
     "output_type": "stream",
     "text": [
      "C:\\Users\\Harsh\\anaconda3\\Lib\\site-packages\\sklearn\\preprocessing\\_encoders.py:972: FutureWarning: `sparse` was renamed to `sparse_output` in version 1.2 and will be removed in 1.4. `sparse_output` is ignored unless you leave `sparse` to its default value.\n",
      "  warnings.warn(\n"
     ]
    }
   ],
   "source": [
    "from sklearn.pipeline import Pipeline\n",
    "from sklearn.preprocessing import OneHotEncoder\n",
    "from sklearn.tree import DecisionTreeClassifier\n",
    "from sklearn.compose import ColumnTransformer\n",
    "from sklearn.model_selection import train_test_split\n",
    "from sklearn.metrics import accuracy_score\n",
    "\n",
    "# Assuming df is your DataFrame and 'target' is your target column\n",
    "X = df.drop(columns=['Weather Type'])\n",
    "y = df['Weather Type']\n",
    "\n",
    "# Specify the categorical column names, excluding the target column\n",
    "categorical_features = ['Cloud Cover', 'Season', 'Location']\n",
    "\n",
    "# Split the data into training and testing sets\n",
    "X_train, X_test, y_train, y_test = train_test_split(X, y, test_size=0.2, random_state=42)\n",
    "\n",
    "# Step 1: ColumnTransformer with OneHotEncoder\n",
    "step1 = ColumnTransformer(transformers=[\n",
    "    ('col_tnf', OneHotEncoder(sparse=False, drop='first'), categorical_features)\n",
    "], remainder='passthrough')\n",
    "\n",
    "# Step 2: Decision Tree Classifier\n",
    "step2 = DecisionTreeClassifier(random_state=42)\n",
    "\n",
    "# Create the pipeline\n",
    "pipeline_dt = Pipeline([\n",
    "    ('step1', step1),\n",
    "    ('step2', step2)\n",
    "])\n",
    "\n",
    "# Fit the pipeline on the training data\n",
    "pipeline_dt.fit(X_train, y_train)\n",
    "\n",
    "# Make predictions on the test data\n",
    "y_pred_dt = pipeline_dt.predict(X_test)\n",
    "\n",
    "# Print accuracy\n",
    "print('Decision Tree Classifier Accuracy:', accuracy_score(y_test, y_pred_dt))\n"
   ]
  },
  {
   "cell_type": "markdown",
   "id": "5627e93a",
   "metadata": {},
   "source": [
    " ## Random Forest"
   ]
  },
  {
   "cell_type": "code",
   "execution_count": 30,
   "id": "508563e7",
   "metadata": {},
   "outputs": [
    {
     "name": "stderr",
     "output_type": "stream",
     "text": [
      "C:\\Users\\Harsh\\anaconda3\\Lib\\site-packages\\sklearn\\preprocessing\\_encoders.py:972: FutureWarning: `sparse` was renamed to `sparse_output` in version 1.2 and will be removed in 1.4. `sparse_output` is ignored unless you leave `sparse` to its default value.\n",
      "  warnings.warn(\n"
     ]
    },
    {
     "name": "stdout",
     "output_type": "stream",
     "text": [
      "Random Forest Classifier Accuracy: 0.8609848484848485\n"
     ]
    }
   ],
   "source": [
    "from sklearn.pipeline import Pipeline\n",
    "from sklearn.preprocessing import OneHotEncoder\n",
    "from sklearn.ensemble import RandomForestClassifier\n",
    "from sklearn.compose import ColumnTransformer\n",
    "from sklearn.model_selection import train_test_split\n",
    "from sklearn.metrics import accuracy_score\n",
    "\n",
    "# Assuming df is your DataFrame and 'target' is your target column\n",
    "X = df.drop(columns=['Weather Type'])\n",
    "y = df['Weather Type']\n",
    "\n",
    "# Specify the categorical column names, excluding the target column\n",
    "categorical_features = ['Cloud Cover', 'Season', 'Location']\n",
    "\n",
    "# Split the data into training and testing sets\n",
    "X_train, X_test, y_train, y_test = train_test_split(X, y, test_size=0.2, random_state=42)\n",
    "\n",
    "# Step 1: ColumnTransformer with OneHotEncoder\n",
    "step1 = ColumnTransformer(transformers=[\n",
    "    ('col_tnf', OneHotEncoder(sparse=False, drop='first'), categorical_features)\n",
    "], remainder='passthrough')\n",
    "\n",
    "# Step 2: Random Forest Classifier\n",
    "step2 = RandomForestClassifier(random_state=42)\n",
    "\n",
    "# Create the pipeline\n",
    "pipeline_rf = Pipeline([\n",
    "    ('step1', step1),\n",
    "    ('step2', step2)\n",
    "])\n",
    "\n",
    "# Fit the pipeline on the training data\n",
    "pipeline_rf.fit(X_train, y_train)\n",
    "\n",
    "# Make predictions on the test data\n",
    "y_pred_rf = pipeline_rf.predict(X_test)\n",
    "\n",
    "# Print accuracy\n",
    "print('Random Forest Classifier Accuracy:', accuracy_score(y_test, y_pred_rf))\n"
   ]
  },
  {
   "cell_type": "markdown",
   "id": "009c6d9e",
   "metadata": {},
   "source": [
    "## KNN Classifier"
   ]
  },
  {
   "cell_type": "code",
   "execution_count": 31,
   "id": "24f992c4",
   "metadata": {},
   "outputs": [
    {
     "name": "stderr",
     "output_type": "stream",
     "text": [
      "C:\\Users\\Harsh\\anaconda3\\Lib\\site-packages\\sklearn\\preprocessing\\_encoders.py:972: FutureWarning: `sparse` was renamed to `sparse_output` in version 1.2 and will be removed in 1.4. `sparse_output` is ignored unless you leave `sparse` to its default value.\n",
      "  warnings.warn(\n"
     ]
    },
    {
     "name": "stdout",
     "output_type": "stream",
     "text": [
      "KNeighbors Classifier Accuracy: 0.8208333333333333\n"
     ]
    }
   ],
   "source": [
    "from sklearn.pipeline import Pipeline\n",
    "from sklearn.preprocessing import OneHotEncoder, StandardScaler\n",
    "from sklearn.neighbors import KNeighborsClassifier\n",
    "from sklearn.compose import ColumnTransformer\n",
    "from sklearn.model_selection import train_test_split\n",
    "from sklearn.metrics import accuracy_score\n",
    "\n",
    "# Assuming df is your DataFrame and 'target' is your target column\n",
    "X = df.drop(columns=['Weather Type'])\n",
    "y = df['Weather Type']\n",
    "\n",
    "# Specify the categorical column names, excluding the target column\n",
    "categorical_features = ['Cloud Cover', 'Season', 'Location']\n",
    "\n",
    "# Split the data into training and testing sets\n",
    "X_train, X_test, y_train, y_test = train_test_split(X, y, test_size=0.2, random_state=42)\n",
    "\n",
    "# Step 1: ColumnTransformer with OneHotEncoder for categorical features and StandardScaler for numeric features\n",
    "step1 = ColumnTransformer(transformers=[\n",
    "    ('cat', OneHotEncoder(sparse=False, drop='first'), categorical_features),\n",
    "    ('num', StandardScaler(), X.select_dtypes(include='number').columns.tolist())\n",
    "], remainder='passthrough')\n",
    "\n",
    "# Step 2: KNeighbors Classifier\n",
    "step2 = KNeighborsClassifier()\n",
    "\n",
    "# Create the pipeline\n",
    "pipeline_knn = Pipeline([\n",
    "    ('step1', step1),\n",
    "    ('step2', step2)\n",
    "])\n",
    "\n",
    "# Fit the pipeline on the training data\n",
    "pipeline_knn.fit(X_train, y_train)\n",
    "\n",
    "# Make predictions on the test data\n",
    "y_pred_knn = pipeline_knn.predict(X_test)\n",
    "\n",
    "# Print accuracy\n",
    "print('KNeighbors Classifier Accuracy:', accuracy_score(y_test, y_pred_knn))"
   ]
  },
  {
   "cell_type": "markdown",
   "id": "54248c3b",
   "metadata": {},
   "source": [
    "## Support Vector Classifier"
   ]
  },
  {
   "cell_type": "code",
   "execution_count": 32,
   "id": "6d836a0d",
   "metadata": {},
   "outputs": [
    {
     "name": "stderr",
     "output_type": "stream",
     "text": [
      "C:\\Users\\Harsh\\anaconda3\\Lib\\site-packages\\sklearn\\preprocessing\\_encoders.py:972: FutureWarning: `sparse` was renamed to `sparse_output` in version 1.2 and will be removed in 1.4. `sparse_output` is ignored unless you leave `sparse` to its default value.\n",
      "  warnings.warn(\n"
     ]
    },
    {
     "name": "stdout",
     "output_type": "stream",
     "text": [
      "SVC Accuracy: 0.8473484848484848\n"
     ]
    }
   ],
   "source": [
    "from sklearn.pipeline import Pipeline\n",
    "from sklearn.preprocessing import OneHotEncoder, StandardScaler\n",
    "from sklearn.svm import SVC\n",
    "from sklearn.compose import ColumnTransformer\n",
    "from sklearn.model_selection import train_test_split\n",
    "from sklearn.metrics import accuracy_score\n",
    "\n",
    "# Assuming df is your DataFrame and 'target' is your target column\n",
    "X = df.drop(columns=['Weather Type'])\n",
    "y = df['Weather Type']\n",
    "\n",
    "# Specify the categorical column names, excluding the target column\n",
    "categorical_features = ['Cloud Cover', 'Season', 'Location']\n",
    "\n",
    "# Split the data into training and testing sets\n",
    "X_train, X_test, y_train, y_test = train_test_split(X, y, test_size=0.2, random_state=42)\n",
    "\n",
    "# Step 1: ColumnTransformer with OneHotEncoder for categorical features and StandardScaler for numeric features\n",
    "step1 = ColumnTransformer(transformers=[\n",
    "    ('cat', OneHotEncoder(sparse=False, drop='first'), categorical_features),\n",
    "    ('num', StandardScaler(), X.select_dtypes(include='number').columns.tolist())\n",
    "], remainder='passthrough')\n",
    "\n",
    "# Step 2: Support Vector Classifier (SVC)\n",
    "step2 = SVC()\n",
    "\n",
    "# Create the pipeline\n",
    "pipeline_svc = Pipeline([\n",
    "    ('step1', step1),\n",
    "    ('step2', step2)\n",
    "])\n",
    "\n",
    "# Fit the pipeline on the training data\n",
    "pipeline_svc.fit(X_train, y_train)\n",
    "\n",
    "# Make predictions on the test data\n",
    "y_pred_svc = pipeline_svc.predict(X_test)\n",
    "\n",
    "# Print accuracy\n",
    "print('SVC Accuracy:', accuracy_score(y_test, y_pred_svc))\n"
   ]
  },
  {
   "cell_type": "markdown",
   "id": "e7f6188b",
   "metadata": {},
   "source": [
    "## This is a Classification Problem We use Classification Algortihm And Pipe line\n",
    "### In this Random Forest Show Good Acuracy As comapres to Others"
   ]
  },
  {
   "cell_type": "code",
   "execution_count": 33,
   "id": "747c29ee",
   "metadata": {},
   "outputs": [],
   "source": [
    "import pickle"
   ]
  },
  {
   "cell_type": "code",
   "execution_count": 37,
   "id": "941f1617",
   "metadata": {},
   "outputs": [],
   "source": [
    "pickle.dump(df,open('dataframe.pkl','wb'))\n",
    "pickle.dump(pipeline_rf,open('Model.pkl','wb'))"
   ]
  },
  {
   "cell_type": "code",
   "execution_count": null,
   "id": "1933a620",
   "metadata": {},
   "outputs": [],
   "source": []
  }
 ],
 "metadata": {
  "kernelspec": {
   "display_name": "Python 3 (ipykernel)",
   "language": "python",
   "name": "python3"
  },
  "language_info": {
   "codemirror_mode": {
    "name": "ipython",
    "version": 3
   },
   "file_extension": ".py",
   "mimetype": "text/x-python",
   "name": "python",
   "nbconvert_exporter": "python",
   "pygments_lexer": "ipython3",
   "version": "3.11.5"
  }
 },
 "nbformat": 4,
 "nbformat_minor": 5
}
